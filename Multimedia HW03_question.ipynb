{
 "cells": [
  {
   "cell_type": "markdown",
   "id": "23d6839a",
   "metadata": {},
   "source": [
    "## <font color=\"Red\"> 3.1. 請寫一段程式碼，進行下列資訊判斷：\n",
    "<font color=\"Red\">\n",
    "你住在淡水嗎？(Yes/No)Yes 請輸入你的年級數字：4\n",
    "\n",
    "住在淡水，4年級或以上，早上可能沒課！\n",
    "住在淡水，4年級以下，早上可能有課，但是不用早起！\n",
    "不住在淡水，4年級或以上，早上可能沒課，但是不用早起！\n",
    "不住在淡水，4年級以下，早上可能有課，需要早起！\n",
    "Examples:\n",
    "你住在淡水嗎？(Yes/No)Yes\n",
    "請輸入你的年級數字：4\n",
    "你住在淡水，你是4年級，早上的課不需要早起！\n",
    "\n",
    "你住在淡水嗎？(Yes/No)Yes\n",
    "請輸入你的年級數字：3\n",
    "你住在淡水，你是3年級，早上可能有課，但是不用早起！\n",
    "\n",
    "你住在淡水嗎？(Yes/No)No\n",
    "請輸入你的年級數字：4\n",
    "你不住在淡水，你是4年級，早上可能沒課，但是不用早起\n",
    "\n",
    "你住在淡水嗎？(Yes/No)No\n",
    "請輸入你的年級數字：3\n",
    "你不住在淡水，你是3年級，早上可能有課，需要早起！"
   ]
  },
  {
   "cell_type": "code",
   "execution_count": 4,
   "id": "533e9455",
   "metadata": {},
   "outputs": [
    {
     "name": "stdout",
     "output_type": "stream",
     "text": [
      "你不住在淡水，你是3年級，早上可能有課，需要早起！\n"
     ]
    }
   ],
   "source": [
    "#-------------------- Code Here -------------------#\n",
    "YN = input(\"你住在淡水嗎？(Yes/No)\")\n",
    "grade = int(input(\"請輸入你的年級數字：\"))\n",
    "if grade == 4 and YN == \"Yes\":\n",
    "    print(\"你住在淡水，你是4年級，早上的課不需要早起！\")\n",
    "elif grade == 3 and YN == \"Yes\":\n",
    "    print(\"你住在淡水，你是3年級，早上可能有課，但是不用早起！\")\n",
    "elif grade == 4 and YN == \"No\":\n",
    "    print(\"你不住在淡水，你是4年級，早上可能沒課，但是不用早起\")\n",
    "elif grade == 3 and YN == \"No\":\n",
    "    print(\"你不住在淡水，你是3年級，早上可能有課，需要早起！\")\n",
    "#-------------------- Stop Here -------------------#    "
   ]
  },
  {
   "cell_type": "markdown",
   "id": "6021071e",
   "metadata": {},
   "source": [
    "## <font color=\"Red\"> 3.2. 寫一段程式碼，顯示輸入句子中，特定符號的出現次數  \n",
    "<font color=\"Red\">\n",
    "    \n",
    "參考程式碼：      \n",
    "LoopString = 'Python'             \n",
    "for Word in LoopString:             \n",
    "&nbsp;&nbsp;&nbsp;&nbsp;     print(Word)          \n",
    "\n",
    "輸出結果範例:   \n",
    "1. 句子：Today is a good day 中，符號 s 總共出現1次   \n",
    "2. 句子：Today is a good day 中，符號 o 總共出現3次   \n",
    "3. 句子：Today is a good day 中，符號 y 總共出現2次  \n",
    "4. 句子：Today is a good day 中，符號 d 總共出現3次  "
   ]
  },
  {
   "cell_type": "code",
   "execution_count": 9,
   "id": "9dba4659",
   "metadata": {},
   "outputs": [
    {
     "name": "stdout",
     "output_type": "stream",
     "text": [
      "1. 句子：Today is a good day 中，符號 s 總共出現1次\n",
      "2. 句子：Today is a good day 中，符號 o 總共出現3次\n",
      "3. 句子：Today is a good day 中，符號 y 總共出現2次\n",
      "4. 句子：Today is a good day 中，符號 d 總共出現3次\n"
     ]
    }
   ],
   "source": [
    "LoopString = 'Today is a good day'\n",
    "#-------------------- Code Here -------------------#\n",
    "s = 0\n",
    "o = 0\n",
    "y = 0\n",
    "d = 0\n",
    "for Word in LoopString:\n",
    "    if Word == 's':\n",
    "        s = s + 1\n",
    "    elif Word == 'o':\n",
    "        o = o + 1\n",
    "    elif Word == 'y':\n",
    "        y = y + 1\n",
    "    elif Word == 'd':\n",
    "        d = d + 1\n",
    "print(\"1. 句子：Today is a good day 中，符號 s 總共出現\"+str(s)+\"次\")\n",
    "print(\"2. 句子：Today is a good day 中，符號 o 總共出現\"+str(o)+\"次\")\n",
    "print(\"3. 句子：Today is a good day 中，符號 y 總共出現\"+str(y)+\"次\")\n",
    "print(\"4. 句子：Today is a good day 中，符號 d 總共出現\"+str(d)+\"次\")\n",
    "#-------------------- Stop Here -------------------#"
   ]
  },
  {
   "cell_type": "code",
   "execution_count": null,
   "id": "ea0b3cac",
   "metadata": {},
   "outputs": [],
   "source": []
  }
 ],
 "metadata": {
  "kernelspec": {
   "display_name": "Python 3 (ipykernel)",
   "language": "python",
   "name": "python3"
  },
  "language_info": {
   "codemirror_mode": {
    "name": "ipython",
    "version": 3
   },
   "file_extension": ".py",
   "mimetype": "text/x-python",
   "name": "python",
   "nbconvert_exporter": "python",
   "pygments_lexer": "ipython3",
   "version": "3.11.6"
  }
 },
 "nbformat": 4,
 "nbformat_minor": 5
}
